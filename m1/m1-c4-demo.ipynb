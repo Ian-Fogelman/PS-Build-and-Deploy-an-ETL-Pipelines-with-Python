{
 "cells": [
  {
   "cell_type": "code",
   "execution_count": null,
   "id": "8eab3e86",
   "metadata": {},
   "outputs": [],
   "source": [
    "import pandas as pd\n",
    "import numpy as np\n",
    "from sqlalchemy import create_engine,text"
   ]
  },
  {
   "cell_type": "markdown",
   "id": "ceea449e",
   "metadata": {},
   "source": [
    "### Connect to SQLite Database (without Auth)"
   ]
  },
  {
   "cell_type": "code",
   "execution_count": 27,
   "id": "2d1ded8f",
   "metadata": {},
   "outputs": [],
   "source": [
    "engine = create_engine('sqlite:///data/Example.db', echo=False)"
   ]
  },
  {
   "cell_type": "code",
   "execution_count": 28,
   "id": "7c7bad02",
   "metadata": {},
   "outputs": [
    {
     "data": {
      "text/html": [
       "<div>\n",
       "<style scoped>\n",
       "    .dataframe tbody tr th:only-of-type {\n",
       "        vertical-align: middle;\n",
       "    }\n",
       "\n",
       "    .dataframe tbody tr th {\n",
       "        vertical-align: top;\n",
       "    }\n",
       "\n",
       "    .dataframe thead th {\n",
       "        text-align: right;\n",
       "    }\n",
       "</style>\n",
       "<table border=\"1\" class=\"dataframe\">\n",
       "  <thead>\n",
       "    <tr style=\"text-align: right;\">\n",
       "      <th></th>\n",
       "      <th>name</th>\n",
       "    </tr>\n",
       "  </thead>\n",
       "  <tbody>\n",
       "    <tr>\n",
       "      <th>0</th>\n",
       "      <td>Customers</td>\n",
       "    </tr>\n",
       "    <tr>\n",
       "      <th>1</th>\n",
       "      <td>Orders</td>\n",
       "    </tr>\n",
       "    <tr>\n",
       "      <th>2</th>\n",
       "      <td>OrderItems</td>\n",
       "    </tr>\n",
       "    <tr>\n",
       "      <th>3</th>\n",
       "      <td>random-users</td>\n",
       "    </tr>\n",
       "  </tbody>\n",
       "</table>\n",
       "</div>"
      ],
      "text/plain": [
       "           name\n",
       "0     Customers\n",
       "1        Orders\n",
       "2    OrderItems\n",
       "3  random-users"
      ]
     },
     "execution_count": 28,
     "metadata": {},
     "output_type": "execute_result"
    }
   ],
   "source": [
    "query = \"\"\"SELECT name FROM sqlite_master WHERE type='table'\"\"\"\n",
    "df = pd.read_sql(query,con=engine)\n",
    "df"
   ]
  },
  {
   "cell_type": "markdown",
   "id": "9ccfc8c6",
   "metadata": {},
   "source": [
    "### Connect to SQL Server Database (with Auth)"
   ]
  },
  {
   "cell_type": "code",
   "execution_count": null,
   "id": "2f4f9bd7",
   "metadata": {},
   "outputs": [
    {
     "name": "stdout",
     "output_type": "stream",
     "text": [
      "Connection successful!\n",
      "Current Date: 2025-03-14 01:58:15.640000\n"
     ]
    }
   ],
   "source": [
    "#Connect with Username and Password Authentication\n",
    "server = 'XXXX' #ToDO: Replace with you Servername\n",
    "database = 'Employees'\n",
    "username = 'Pluralsight'\n",
    "password = 'Password'\n",
    "driver = \"ODBC Driver 17 for SQL Server\"  # Ensure this driver is installed\n",
    "\n",
    "conn_str = f\"mssql+pyodbc://{username}:{password}@{server}/{database}?driver={driver.replace(' ', '+')}\"\n",
    "engine = create_engine(conn_str)\n",
    "\n",
    "# Test the connection\n",
    "try:\n",
    "    with engine.connect() as conn:\n",
    "        result = conn.execute(text(\"SELECT GETDATE()\"))  # Simple test query\n",
    "        print(\"Connection successful!\")\n",
    "        print(\"Current Date:\", result.scalar())\n",
    "except Exception as e:\n",
    "    print(\"Error:\", e)"
   ]
  },
  {
   "cell_type": "code",
   "execution_count": 30,
   "id": "cdef1a46",
   "metadata": {},
   "outputs": [
    {
     "data": {
      "text/html": [
       "<div>\n",
       "<style scoped>\n",
       "    .dataframe tbody tr th:only-of-type {\n",
       "        vertical-align: middle;\n",
       "    }\n",
       "\n",
       "    .dataframe tbody tr th {\n",
       "        vertical-align: top;\n",
       "    }\n",
       "\n",
       "    .dataframe thead th {\n",
       "        text-align: right;\n",
       "    }\n",
       "</style>\n",
       "<table border=\"1\" class=\"dataframe\">\n",
       "  <thead>\n",
       "    <tr style=\"text-align: right;\">\n",
       "      <th></th>\n",
       "      <th>Id</th>\n",
       "      <th>Text</th>\n",
       "    </tr>\n",
       "  </thead>\n",
       "  <tbody>\n",
       "    <tr>\n",
       "      <th>0</th>\n",
       "      <td>1</td>\n",
       "      <td>Connection Successful!</td>\n",
       "    </tr>\n",
       "  </tbody>\n",
       "</table>\n",
       "</div>"
      ],
      "text/plain": [
       "   Id                    Text\n",
       "0   1  Connection Successful!"
      ]
     },
     "execution_count": 30,
     "metadata": {},
     "output_type": "execute_result"
    }
   ],
   "source": [
    "query = \"SELECT * FROM DBO.EXAMPLE;\"\n",
    "df = pd.read_sql(query,con=engine)\n",
    "df"
   ]
  },
  {
   "cell_type": "markdown",
   "id": "9666569a",
   "metadata": {},
   "source": [
    "### Connect to SQL Server Database (with Trusted Auth)"
   ]
  },
  {
   "cell_type": "code",
   "execution_count": 31,
   "id": "eef3e637",
   "metadata": {},
   "outputs": [
    {
     "name": "stdout",
     "output_type": "stream",
     "text": [
      "Connection successful (Trusted Auth)! Current Date: 2025-03-14 01:59:11.220000\n"
     ]
    }
   ],
   "source": [
    "from sqlalchemy import create_engine, text\n",
    "\n",
    "# Create the connection string for Windows Authentication (Trusted Connection)\n",
    "conn_str = f\"mssql+pyodbc://@{server}/{database}?trusted_connection=yes&driver={driver.replace(' ', '+')}\"\n",
    "\n",
    "# Create the SQLAlchemy engine\n",
    "engine = create_engine(conn_str)\n",
    "\n",
    "# Test the connection\n",
    "try:\n",
    "    with engine.connect() as conn:\n",
    "        result = conn.execute(text(\"SELECT GETDATE()\"))  # Simple test query\n",
    "        print(\"Connection successful (Trusted Auth)! Current Date:\", result.scalar())\n",
    "except Exception as e:\n",
    "    print(\"Error:\", e)"
   ]
  },
  {
   "cell_type": "code",
   "execution_count": null,
   "id": "bc83fd06",
   "metadata": {},
   "outputs": [],
   "source": []
  }
 ],
 "metadata": {
  "kernelspec": {
   "display_name": "base",
   "language": "python",
   "name": "python3"
  },
  "language_info": {
   "codemirror_mode": {
    "name": "ipython",
    "version": 3
   },
   "file_extension": ".py",
   "mimetype": "text/x-python",
   "name": "python",
   "nbconvert_exporter": "python",
   "pygments_lexer": "ipython3",
   "version": "3.11.5"
  }
 },
 "nbformat": 4,
 "nbformat_minor": 5
}
