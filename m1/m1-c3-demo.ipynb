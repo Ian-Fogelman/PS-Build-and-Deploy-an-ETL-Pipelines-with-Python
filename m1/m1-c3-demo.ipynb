{
 "cells": [
  {
   "cell_type": "code",
   "execution_count": 1,
   "id": "8eab3e86",
   "metadata": {},
   "outputs": [],
   "source": [
    "import pandas as pd\n",
    "import numpy as np\n",
    "import requests"
   ]
  },
  {
   "cell_type": "markdown",
   "id": "40938627",
   "metadata": {},
   "source": [
    "### Read CSV File"
   ]
  },
  {
   "cell_type": "code",
   "execution_count": 2,
   "id": "7ffed89c",
   "metadata": {},
   "outputs": [
    {
     "data": {
      "text/html": [
       "<div>\n",
       "<style scoped>\n",
       "    .dataframe tbody tr th:only-of-type {\n",
       "        vertical-align: middle;\n",
       "    }\n",
       "\n",
       "    .dataframe tbody tr th {\n",
       "        vertical-align: top;\n",
       "    }\n",
       "\n",
       "    .dataframe thead th {\n",
       "        text-align: right;\n",
       "    }\n",
       "</style>\n",
       "<table border=\"1\" class=\"dataframe\">\n",
       "  <thead>\n",
       "    <tr style=\"text-align: right;\">\n",
       "      <th></th>\n",
       "      <th>EmployeeID</th>\n",
       "      <th>Name</th>\n",
       "      <th>Age</th>\n",
       "      <th>Department</th>\n",
       "      <th>Salary</th>\n",
       "    </tr>\n",
       "  </thead>\n",
       "  <tbody>\n",
       "    <tr>\n",
       "      <th>0</th>\n",
       "      <td>1</td>\n",
       "      <td>Alice Johnson</td>\n",
       "      <td>29</td>\n",
       "      <td>Engineering</td>\n",
       "      <td>85000</td>\n",
       "    </tr>\n",
       "    <tr>\n",
       "      <th>1</th>\n",
       "      <td>2</td>\n",
       "      <td>Bob Smith</td>\n",
       "      <td>35</td>\n",
       "      <td>Marketing</td>\n",
       "      <td>72000</td>\n",
       "    </tr>\n",
       "    <tr>\n",
       "      <th>2</th>\n",
       "      <td>3</td>\n",
       "      <td>Charlie Lee</td>\n",
       "      <td>40</td>\n",
       "      <td>Finance</td>\n",
       "      <td>95000</td>\n",
       "    </tr>\n",
       "    <tr>\n",
       "      <th>3</th>\n",
       "      <td>4</td>\n",
       "      <td>Diana Prince</td>\n",
       "      <td>27</td>\n",
       "      <td>HR</td>\n",
       "      <td>62000</td>\n",
       "    </tr>\n",
       "  </tbody>\n",
       "</table>\n",
       "</div>"
      ],
      "text/plain": [
       "   EmployeeID           Name  Age   Department  Salary\n",
       "0           1  Alice Johnson   29  Engineering   85000\n",
       "1           2      Bob Smith   35    Marketing   72000\n",
       "2           3    Charlie Lee   40      Finance   95000\n",
       "3           4   Diana Prince   27           HR   62000"
      ]
     },
     "execution_count": 2,
     "metadata": {},
     "output_type": "execute_result"
    }
   ],
   "source": [
    "df1 = pd.read_csv('data/Example.csv')\n",
    "df1.name = 'csv_dataframe'\n",
    "df1"
   ]
  },
  {
   "cell_type": "code",
   "execution_count": 3,
   "id": "f7f3148d",
   "metadata": {},
   "outputs": [],
   "source": [
    "assert(df1.shape == (4,5))\n",
    "assert(list(df1['Name']) == ['Alice Johnson', 'Bob Smith', 'Charlie Lee', 'Diana Prince'])\n",
    "assert(list(df1['Age']) == [29,35,40,27])\n",
    "assert(list(df1['Department']) == [\"Engineering\", \"Marketing\", \"Finance\", \"HR\"])\n",
    "assert(list(df1['Salary']) == [85000,72000,95000,62000])\n"
   ]
  },
  {
   "cell_type": "markdown",
   "id": "f9f9ad44",
   "metadata": {},
   "source": [
    "### Read JSON File"
   ]
  },
  {
   "cell_type": "code",
   "execution_count": 4,
   "id": "9e34701f",
   "metadata": {},
   "outputs": [
    {
     "data": {
      "text/html": [
       "<div>\n",
       "<style scoped>\n",
       "    .dataframe tbody tr th:only-of-type {\n",
       "        vertical-align: middle;\n",
       "    }\n",
       "\n",
       "    .dataframe tbody tr th {\n",
       "        vertical-align: top;\n",
       "    }\n",
       "\n",
       "    .dataframe thead th {\n",
       "        text-align: right;\n",
       "    }\n",
       "</style>\n",
       "<table border=\"1\" class=\"dataframe\">\n",
       "  <thead>\n",
       "    <tr style=\"text-align: right;\">\n",
       "      <th></th>\n",
       "      <th>EmployeeID</th>\n",
       "      <th>Name</th>\n",
       "      <th>Age</th>\n",
       "      <th>Department</th>\n",
       "      <th>Salary</th>\n",
       "    </tr>\n",
       "  </thead>\n",
       "  <tbody>\n",
       "    <tr>\n",
       "      <th>0</th>\n",
       "      <td>1</td>\n",
       "      <td>Alice Johnson</td>\n",
       "      <td>29</td>\n",
       "      <td>Engineering</td>\n",
       "      <td>85000</td>\n",
       "    </tr>\n",
       "    <tr>\n",
       "      <th>1</th>\n",
       "      <td>2</td>\n",
       "      <td>Bob Smith</td>\n",
       "      <td>35</td>\n",
       "      <td>Marketing</td>\n",
       "      <td>72000</td>\n",
       "    </tr>\n",
       "    <tr>\n",
       "      <th>2</th>\n",
       "      <td>3</td>\n",
       "      <td>Charlie Lee</td>\n",
       "      <td>40</td>\n",
       "      <td>Finance</td>\n",
       "      <td>95000</td>\n",
       "    </tr>\n",
       "    <tr>\n",
       "      <th>3</th>\n",
       "      <td>4</td>\n",
       "      <td>Diana Prince</td>\n",
       "      <td>27</td>\n",
       "      <td>HR</td>\n",
       "      <td>62000</td>\n",
       "    </tr>\n",
       "  </tbody>\n",
       "</table>\n",
       "</div>"
      ],
      "text/plain": [
       "   EmployeeID           Name  Age   Department  Salary\n",
       "0           1  Alice Johnson   29  Engineering   85000\n",
       "1           2      Bob Smith   35    Marketing   72000\n",
       "2           3    Charlie Lee   40      Finance   95000\n",
       "3           4   Diana Prince   27           HR   62000"
      ]
     },
     "execution_count": 4,
     "metadata": {},
     "output_type": "execute_result"
    }
   ],
   "source": [
    "df2 = pd.read_json('data/Example.json')\n",
    "df2.name = 'json_dataframe'\n",
    "df2"
   ]
  },
  {
   "cell_type": "markdown",
   "id": "f09201f2",
   "metadata": {},
   "source": [
    "### Read Parquet"
   ]
  },
  {
   "cell_type": "code",
   "execution_count": 5,
   "id": "c02b4546",
   "metadata": {},
   "outputs": [
    {
     "data": {
      "text/html": [
       "<div>\n",
       "<style scoped>\n",
       "    .dataframe tbody tr th:only-of-type {\n",
       "        vertical-align: middle;\n",
       "    }\n",
       "\n",
       "    .dataframe tbody tr th {\n",
       "        vertical-align: top;\n",
       "    }\n",
       "\n",
       "    .dataframe thead th {\n",
       "        text-align: right;\n",
       "    }\n",
       "</style>\n",
       "<table border=\"1\" class=\"dataframe\">\n",
       "  <thead>\n",
       "    <tr style=\"text-align: right;\">\n",
       "      <th></th>\n",
       "      <th>EmployeeID</th>\n",
       "      <th>Name</th>\n",
       "      <th>Age</th>\n",
       "      <th>Department</th>\n",
       "      <th>Salary</th>\n",
       "    </tr>\n",
       "  </thead>\n",
       "  <tbody>\n",
       "    <tr>\n",
       "      <th>0</th>\n",
       "      <td>1</td>\n",
       "      <td>Alice Johnson</td>\n",
       "      <td>29</td>\n",
       "      <td>Engineering</td>\n",
       "      <td>85000</td>\n",
       "    </tr>\n",
       "    <tr>\n",
       "      <th>1</th>\n",
       "      <td>2</td>\n",
       "      <td>Bob Smith</td>\n",
       "      <td>35</td>\n",
       "      <td>Marketing</td>\n",
       "      <td>72000</td>\n",
       "    </tr>\n",
       "    <tr>\n",
       "      <th>2</th>\n",
       "      <td>3</td>\n",
       "      <td>Charlie Lee</td>\n",
       "      <td>40</td>\n",
       "      <td>Finance</td>\n",
       "      <td>95000</td>\n",
       "    </tr>\n",
       "    <tr>\n",
       "      <th>3</th>\n",
       "      <td>4</td>\n",
       "      <td>Diana Prince</td>\n",
       "      <td>27</td>\n",
       "      <td>HR</td>\n",
       "      <td>62000</td>\n",
       "    </tr>\n",
       "  </tbody>\n",
       "</table>\n",
       "</div>"
      ],
      "text/plain": [
       "   EmployeeID           Name  Age   Department  Salary\n",
       "0           1  Alice Johnson   29  Engineering   85000\n",
       "1           2      Bob Smith   35    Marketing   72000\n",
       "2           3    Charlie Lee   40      Finance   95000\n",
       "3           4   Diana Prince   27           HR   62000"
      ]
     },
     "execution_count": 5,
     "metadata": {},
     "output_type": "execute_result"
    }
   ],
   "source": [
    "df3 = pd.read_parquet('data/Example.parquet')\n",
    "df3.name = 'parquet_dataframe'\n",
    "df3"
   ]
  },
  {
   "cell_type": "markdown",
   "id": "e08a98bc",
   "metadata": {},
   "source": [
    "### Append all dataframes into a list"
   ]
  },
  {
   "cell_type": "code",
   "execution_count": 6,
   "id": "55304915",
   "metadata": {},
   "outputs": [],
   "source": [
    "l = []\n",
    "l.append(df1)\n",
    "l.append(df2)\n",
    "l.append(df3)"
   ]
  },
  {
   "cell_type": "markdown",
   "id": "6fcbcce7",
   "metadata": {},
   "source": [
    "### Print Dataframe Metadata"
   ]
  },
  {
   "cell_type": "code",
   "execution_count": 7,
   "id": "b245564d",
   "metadata": {},
   "outputs": [
    {
     "name": "stdout",
     "output_type": "stream",
     "text": [
      "****************************************************************************************************\n",
      "Dataframe name: csv_dataframe\n",
      "Dataframe shape: (4, 5)\n",
      "Dataframe columns: Index(['EmployeeID', 'Name', 'Age', 'Department', 'Salary'], dtype='object')\n",
      "Dataframe dtypes: EmployeeID     int64\n",
      "Name          object\n",
      "Age            int64\n",
      "Department    object\n",
      "Salary         int64\n",
      "dtype: object\n",
      "Object type: <class 'pandas.core.frame.DataFrame'>\n",
      "****************************************************************************************************\n",
      "Dataframe name: json_dataframe\n",
      "Dataframe shape: (4, 5)\n",
      "Dataframe columns: Index(['EmployeeID', 'Name', 'Age', 'Department', 'Salary'], dtype='object')\n",
      "Dataframe dtypes: EmployeeID     int64\n",
      "Name          object\n",
      "Age            int64\n",
      "Department    object\n",
      "Salary         int64\n",
      "dtype: object\n",
      "Object type: <class 'pandas.core.frame.DataFrame'>\n",
      "****************************************************************************************************\n",
      "Dataframe name: parquet_dataframe\n",
      "Dataframe shape: (4, 5)\n",
      "Dataframe columns: Index(['EmployeeID', 'Name', 'Age', 'Department', 'Salary'], dtype='object')\n",
      "Dataframe dtypes: EmployeeID     int64\n",
      "Name          object\n",
      "Age            int64\n",
      "Department    object\n",
      "Salary         int64\n",
      "dtype: object\n",
      "Object type: <class 'pandas.core.frame.DataFrame'>\n",
      "****************************************************************************************************\n"
     ]
    }
   ],
   "source": [
    "print('*' * 100)\n",
    "i = 1\n",
    "for x in l:\n",
    "    print('Dataframe name: ' + str(x.name))\n",
    "    print('Dataframe shape: ' + str(x.shape))\n",
    "    print('Dataframe columns: ' + str(x.columns))\n",
    "    print('Dataframe dtypes: ' + str(x.dtypes))\n",
    "    print('Object type: ' + str(type(x)))\n",
    "    print('*' * 100)\n",
    "    i+=1"
   ]
  },
  {
   "cell_type": "markdown",
   "id": "94b5db1c",
   "metadata": {},
   "source": [
    "### Connect to REST APIs (Async vs Non-Async)"
   ]
  },
  {
   "cell_type": "code",
   "execution_count": null,
   "id": "302d8d12",
   "metadata": {},
   "outputs": [],
   "source": [
    "#python async.py\n",
    "#Executing REST API call in async.py to http://127.0.0.1:5000/random-user for 2000 iterations."
   ]
  },
  {
   "cell_type": "markdown",
   "id": "9bc12861",
   "metadata": {},
   "source": [
    "<details><summary>See Execution Time</summary>Total Execution Time for async.py: 4.60 second</details>"
   ]
  },
  {
   "cell_type": "code",
   "execution_count": null,
   "id": "376a1c34",
   "metadata": {},
   "outputs": [],
   "source": [
    "#python non-async.py\n",
    "#Executing REST API call in non-async.py to http://127.0.0.1:5000/random-user for 2000 iterations."
   ]
  },
  {
   "cell_type": "markdown",
   "id": "1fc4cdd8",
   "metadata": {},
   "source": [
    "<details><summary>See Execution Time</summary>Total Execution Time for non-async.py: 9.70 second</details>"
   ]
  },
  {
   "cell_type": "markdown",
   "id": "38c8268b",
   "metadata": {},
   "source": [
    "### Connect to REST APIs (with Authentication)"
   ]
  },
  {
   "cell_type": "code",
   "execution_count": 8,
   "id": "b104dc2d",
   "metadata": {},
   "outputs": [
    {
     "name": "stdout",
     "output_type": "stream",
     "text": [
      "Without Token: 401 {'error': 'Invalid or missing token', 'message': 'Unauthorized Access'}\n",
      "With Token: 200 {'message': 'Access granted!', 'user': 'authorized_user'}\n",
      "Public Endpoint: 200 {'message': 'This is a public endpoint!'}\n"
     ]
    }
   ],
   "source": [
    "import requests\n",
    "\n",
    "BASE_URL = \"http://127.0.0.1:5000\"\n",
    "\n",
    "# 1. Request without a token (should be unauthorized)\n",
    "response = requests.get(f\"{BASE_URL}/protected\")\n",
    "print(\"Without Token:\", response.status_code, response.json())\n",
    "\n",
    "# 2. Request with a valid token\n",
    "headers = {\n",
    "    \"Authorization\": \"Bearer mysecrettoken123\"\n",
    "}\n",
    "response = requests.get(f\"{BASE_URL}/protected\", headers=headers)\n",
    "print(\"With Token:\", response.status_code, response.json())\n",
    "\n",
    "# 3. Accessing the public endpoint (no authentication required)\n",
    "response = requests.get(f\"{BASE_URL}/public\")\n",
    "print(\"Public Endpoint:\", response.status_code, response.json())"
   ]
  },
  {
   "cell_type": "markdown",
   "id": "62d16cc4",
   "metadata": {},
   "source": [
    "# Load REST Data to SQLite"
   ]
  },
  {
   "cell_type": "code",
   "execution_count": 9,
   "id": "8a9f0cab",
   "metadata": {},
   "outputs": [],
   "source": [
    "from sqlalchemy import create_engine\n",
    "engine = create_engine('sqlite:///Example.db', echo=False)"
   ]
  },
  {
   "cell_type": "code",
   "execution_count": 10,
   "id": "ae8bc048",
   "metadata": {},
   "outputs": [
    {
     "data": {
      "text/plain": [
       "100"
      ]
     },
     "execution_count": 10,
     "metadata": {},
     "output_type": "execute_result"
    }
   ],
   "source": [
    "url = \"http://127.0.0.1:5000/random-user\"  \n",
    "num_iterations = 100\n",
    "\n",
    "df = pd.DataFrame()\n",
    "\n",
    "for x in range(num_iterations):\n",
    "    r = requests.get(url)\n",
    "    json_data = r.json()\n",
    "    df = pd.concat([df, pd.DataFrame([json_data])], ignore_index=True)\n",
    "\n",
    "df.to_sql(name='random-users', con=engine, if_exists='replace',index_label='id')"
   ]
  },
  {
   "cell_type": "code",
   "execution_count": null,
   "id": "87aba560",
   "metadata": {},
   "outputs": [],
   "source": []
  }
 ],
 "metadata": {
  "kernelspec": {
   "display_name": "base",
   "language": "python",
   "name": "python3"
  },
  "language_info": {
   "codemirror_mode": {
    "name": "ipython",
    "version": 3
   },
   "file_extension": ".py",
   "mimetype": "text/x-python",
   "name": "python",
   "nbconvert_exporter": "python",
   "pygments_lexer": "ipython3",
   "version": "3.11.5"
  }
 },
 "nbformat": 4,
 "nbformat_minor": 5
}
